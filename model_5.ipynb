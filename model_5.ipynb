{
  "nbformat": 4,
  "nbformat_minor": 0,
  "metadata": {
    "colab": {
      "provenance": [],
      "machine_shape": "hm",
      "gpuType": "T4"
    },
    "kernelspec": {
      "name": "python3",
      "display_name": "Python 3"
    },
    "language_info": {
      "name": "python"
    },
    "accelerator": "GPU"
  },
  "cells": [
    {
      "cell_type": "code",
      "source": [
        "!pip install einops"
      ],
      "metadata": {
        "colab": {
          "base_uri": "https://localhost:8080/"
        },
        "id": "R9Kn5XrkGAaJ",
        "outputId": "84042d6c-7216-4684-a982-063fb3d8ccbc"
      },
      "execution_count": 1,
      "outputs": [
        {
          "output_type": "stream",
          "name": "stdout",
          "text": [
            "Collecting einops\n",
            "  Downloading einops-0.8.0-py3-none-any.whl (43 kB)\n",
            "\u001b[?25l     \u001b[90m━━━━━━━━━━━━━━━━━━━━━━━━━━━━━━━━━━━━━━━━\u001b[0m \u001b[32m0.0/43.2 kB\u001b[0m \u001b[31m?\u001b[0m eta \u001b[36m-:--:--\u001b[0m\r\u001b[2K     \u001b[91m━━━━━━━━━━━━━━━━━━━━━━━━━━━━━━━━━━━━━\u001b[0m\u001b[91m╸\u001b[0m\u001b[90m━━\u001b[0m \u001b[32m41.0/43.2 kB\u001b[0m \u001b[31m2.3 MB/s\u001b[0m eta \u001b[36m0:00:01\u001b[0m\r\u001b[2K     \u001b[90m━━━━━━━━━━━━━━━━━━━━━━━━━━━━━━━━━━━━━━━━\u001b[0m \u001b[32m43.2/43.2 kB\u001b[0m \u001b[31m932.2 kB/s\u001b[0m eta \u001b[36m0:00:00\u001b[0m\n",
            "\u001b[?25hInstalling collected packages: einops\n",
            "Successfully installed einops-0.8.0\n"
          ]
        }
      ]
    },
    {
      "cell_type": "code",
      "source": [
        "import numpy as np\n",
        "import pandas as pd\n",
        "import matplotlib.pyplot as plt\n",
        "import bz2\n",
        "import re\n",
        "import zipfile\n",
        "import os\n",
        "from PIL import Image\n",
        "import random\n",
        "from sklearn.model_selection import train_test_split\n",
        "from sklearn.preprocessing import LabelEncoder\n",
        "from sklearn.metrics import accuracy_score\n",
        "import torch\n",
        "import torch.nn as nn\n",
        "import torch.nn.functional as F\n",
        "import torch.optim as optim\n",
        "from torch.utils.data import DataLoader, TensorDataset\n",
        "from torchvision import transforms\n",
        "from torchvision.datasets import ImageFolder\n",
        "from einops.layers.torch import Rearrange"
      ],
      "metadata": {
        "id": "Ryyx_DpPCqVd"
      },
      "execution_count": 2,
      "outputs": []
    },
    {
      "cell_type": "code",
      "execution_count": 3,
      "metadata": {
        "colab": {
          "base_uri": "https://localhost:8080/"
        },
        "id": "vKgGkDChCn0P",
        "outputId": "cb2f8030-0d4d-44be-cd54-407c74e02731"
      },
      "outputs": [
        {
          "output_type": "stream",
          "name": "stdout",
          "text": [
            "Mounted at /content/drive\n"
          ]
        }
      ],
      "source": [
        "from google.colab import drive\n",
        "\n",
        "drive.mount('/content/drive')"
      ]
    },
    {
      "cell_type": "code",
      "source": [
        "zip_file_path = '/content/drive/MyDrive/deep_fake.zip'\n",
        "destination_directory = '/content/deep_fake'\n",
        "\n",
        "# Unzip the file\n",
        "with zipfile.ZipFile(zip_file_path, 'r') as zip_ref:\n",
        "    zip_ref.extractall(destination_directory)\n",
        "\n",
        "# Print confirmation message\n",
        "print(\"Unzipping complete!\")"
      ],
      "metadata": {
        "colab": {
          "base_uri": "https://localhost:8080/"
        },
        "id": "rE_JVUXFCtQ9",
        "outputId": "8528a96d-210b-487a-f39b-51548a038608"
      },
      "execution_count": 4,
      "outputs": [
        {
          "output_type": "stream",
          "name": "stdout",
          "text": [
            "Unzipping complete!\n"
          ]
        }
      ]
    },
    {
      "cell_type": "code",
      "source": [
        "import random\n",
        "dataset_dir = '/content/deep_fake/Dataset/Train/Real'\n",
        "folder = dataset_dir\n",
        "\n",
        "random_img_path = os.path.join(folder, random.choice(os.listdir(folder)))\n",
        "print(\"Random image size before preprocessing:\", Image.open(random_img_path).size)"
      ],
      "metadata": {
        "colab": {
          "base_uri": "https://localhost:8080/"
        },
        "id": "L6MamcUtCxlt",
        "outputId": "7643e193-1f4c-4dfb-9896-eca1cd0322f5"
      },
      "execution_count": 5,
      "outputs": [
        {
          "output_type": "stream",
          "name": "stdout",
          "text": [
            "Random image size before preprocessing: (256, 256)\n"
          ]
        }
      ]
    },
    {
      "cell_type": "code",
      "source": [
        "device = torch.device(\"cuda\" if torch.cuda.is_available() else \"cpu\")\n",
        "print(device)"
      ],
      "metadata": {
        "colab": {
          "base_uri": "https://localhost:8080/"
        },
        "id": "4haZvkupC2BA",
        "outputId": "f6f0c4ec-018a-419f-8b28-529a22a56635"
      },
      "execution_count": 6,
      "outputs": [
        {
          "output_type": "stream",
          "name": "stdout",
          "text": [
            "cuda\n"
          ]
        }
      ]
    },
    {
      "cell_type": "code",
      "source": [
        "from torchvision import datasets, transforms\n",
        "data_transform = transforms.Compose([\n",
        "    transforms.ToTensor(),\n",
        "    transforms.Resize((224, 224)),\n",
        "    transforms.Normalize(mean=[0.485, 0.456, 0.406],\n",
        "                         std=[0.229, 0.224, 0.225])\n",
        "])\n",
        "dataset = datasets.ImageFolder(root=\"/content/deep_fake/Dataset/Train\", transform=data_transform)\n"
      ],
      "metadata": {
        "id": "gvHJPxmLC7dd"
      },
      "execution_count": 7,
      "outputs": []
    },
    {
      "cell_type": "code",
      "source": [
        "# Initialize the LabelEncoder\n",
        "label_encoder = LabelEncoder()\n",
        "\n",
        "# Fit label encoder and transform labels to numeric values (0 or 1)\n",
        "encoded_labels = label_encoder.fit_transform(dataset.classes)\n",
        "\n",
        "# Print the encoded labels\n",
        "print(encoded_labels)"
      ],
      "metadata": {
        "colab": {
          "base_uri": "https://localhost:8080/"
        },
        "id": "PM5tH6GpC8ev",
        "outputId": "4d740196-b339-4b5f-e83d-2e1e42fce95f"
      },
      "execution_count": 8,
      "outputs": [
        {
          "output_type": "stream",
          "name": "stdout",
          "text": [
            "[0 1]\n"
          ]
        }
      ]
    },
    {
      "cell_type": "code",
      "source": [
        "from torch.utils.data import Subset\n",
        "\n",
        "# Separate samples by class\n",
        "real_samples = [idx for idx, (image, label) in enumerate(dataset.samples) if dataset.classes[label] == \"Real\"]\n",
        "fake_samples = [idx for idx, (image, label) in enumerate(dataset.samples) if dataset.classes[label] == \"Fake\"]\n",
        "\n",
        "# Randomly sample 20,000 samples from each class\n",
        "real_samples = np.random.choice(real_samples, 25000, replace=False)\n",
        "fake_samples = np.random.choice(fake_samples, 25000, replace=False)\n",
        "\n",
        "# Combine the sampled indices\n",
        "filtered_indices = np.concatenate([real_samples, fake_samples])\n",
        "filtered_samples = [dataset.samples[idx] for idx in filtered_indices]\n",
        "\n",
        "# Create a Subset dataset using the filtered samples\n",
        "filtered_dataset = Subset(dataset, filtered_indices)"
      ],
      "metadata": {
        "id": "8Balb1mHDGaa"
      },
      "execution_count": 9,
      "outputs": []
    },
    {
      "cell_type": "code",
      "source": [
        "dataset = filtered_dataset\n",
        "# Define sizes for train, validation, and test sets\n",
        "train_size = int(0.9 * len(dataset))\n",
        "test_size = len(dataset) - train_size\n",
        "\n",
        "# Split the dataset into train, validation, and test sets\n",
        "train_set, test_set = torch.utils.data.random_split(dataset, [train_size, test_size])\n",
        "vali_size = int(0.11112*len(train_set))\n",
        "train_size = len(train_set) - vali_size\n",
        "train_set, vali_set = torch.utils.data.random_split(train_set, [train_size, vali_size])\n",
        "\n",
        "# Create DataLoader for train, validation, and test sets\n",
        "train_loader = DataLoader(train_set, batch_size=32,shuffle=True)\n",
        "vali_loader = DataLoader(vali_set, batch_size=32,shuffle=True)\n",
        "test_loader = DataLoader(test_set, batch_size=32,shuffle=True)"
      ],
      "metadata": {
        "id": "budNlXpoDMsM"
      },
      "execution_count": 10,
      "outputs": []
    },
    {
      "cell_type": "code",
      "source": [
        "print(len(train_set))\n",
        "print(len(vali_set))\n",
        "print(len(test_set))"
      ],
      "metadata": {
        "colab": {
          "base_uri": "https://localhost:8080/"
        },
        "id": "NCSISuqxxnPd",
        "outputId": "924f1c9a-815f-4792-b77d-1883de25406a"
      },
      "execution_count": 11,
      "outputs": [
        {
          "output_type": "stream",
          "name": "stdout",
          "text": [
            "40000\n",
            "5000\n",
            "5000\n"
          ]
        }
      ]
    },
    {
      "cell_type": "code",
      "source": [
        "from torch import nn\n",
        "from einops.layers.torch import Rearrange\n",
        "from torch import Tensor\n",
        "\n",
        "\n",
        "class PatchEmbedding(nn.Module):\n",
        "    def __init__(self):\n",
        "        super().__init__()\n",
        "        self.projection = nn.Sequential(\n",
        "            # break-down the image in s1 x s2 patches and flat them\n",
        "            #Rearrange('b c (h p1) (w p2) -> b (h w) (p1 p2 c)', p1=patch_size, p2=patch_size),\n",
        "            nn.Conv2d(256, 256*6**2,kernel_size=3,stride=3)\n",
        "        )\n",
        "        self.flatten = nn.Flatten(start_dim=1,end_dim=2)\n",
        "\n",
        "    def forward(self, x: Tensor) -> Tensor:\n",
        "        x = self.projection(x)\n",
        "        x = x.permute((0, 2, 3, 1))\n",
        "        x = self.flatten(x)\n",
        "        return x"
      ],
      "metadata": {
        "id": "D4egYWYJmsva"
      },
      "execution_count": 12,
      "outputs": []
    },
    {
      "cell_type": "code",
      "source": [
        "from einops import rearrange\n",
        "\n",
        "class Attention(nn.Module):\n",
        "    def __init__(self, dim):\n",
        "        super().__init__()\n",
        "        self.n_heads = 2\n",
        "        self.att = torch.nn.MultiheadAttention(embed_dim=dim,\n",
        "                                               num_heads=12,\n",
        "                                               dropout=0.2)\n",
        "        self.q = torch.nn.Linear(dim, dim)\n",
        "        self.k = torch.nn.Linear(dim, dim)\n",
        "        self.v = torch.nn.Linear(dim, dim)\n",
        "\n",
        "    def forward(self, x):\n",
        "        q = self.q(x)\n",
        "        k = self.k(x)\n",
        "        v = self.v(x)\n",
        "        attn_output, attn_output_weights = self.att(x, x, x)\n",
        "        return attn_output"
      ],
      "metadata": {
        "id": "7RRBzTJkm-jg"
      },
      "execution_count": 13,
      "outputs": []
    },
    {
      "cell_type": "code",
      "source": [
        "class PreNorm(nn.Module):\n",
        "    def __init__(self, dim, fn):\n",
        "        super().__init__()\n",
        "        self.norm = nn.LayerNorm(dim)\n",
        "        self.fn = fn\n",
        "    def forward(self, x, **kwargs):\n",
        "        return self.fn(self.norm(x), **kwargs)"
      ],
      "metadata": {
        "id": "qhvVk5ZpnBHG"
      },
      "execution_count": 14,
      "outputs": []
    },
    {
      "cell_type": "code",
      "source": [
        "class FeedForward(nn.Sequential):\n",
        "    def __init__(self, dim, hidden_dim):\n",
        "        super().__init__(\n",
        "            nn.Linear(dim, hidden_dim),\n",
        "            nn.ReLU(),\n",
        "            nn.Dropout(0.2),\n",
        "            nn.Linear(hidden_dim, dim),\n",
        "            nn.Dropout(0.2)\n",
        "        )"
      ],
      "metadata": {
        "id": "uVE4oRY2nNNU"
      },
      "execution_count": 15,
      "outputs": []
    },
    {
      "cell_type": "code",
      "source": [
        "class ResidualAdd(nn.Module):\n",
        "    def __init__(self, fn):\n",
        "        super().__init__()\n",
        "        self.fn = fn\n",
        "\n",
        "    def forward(self, x, **kwargs):\n",
        "        res = x\n",
        "        x = self.fn(x, **kwargs)\n",
        "        x += res\n",
        "        return x"
      ],
      "metadata": {
        "id": "kn8Mmk0znN6z"
      },
      "execution_count": 16,
      "outputs": []
    },
    {
      "cell_type": "code",
      "source": [
        "import torch\n",
        "import torch.nn as nn\n",
        "from einops import repeat\n",
        "from torchvision.models import resnet18\n",
        "\n",
        "class Vision_transformer(nn.Module):\n",
        "    def __init__(self, patch_size=14, emb_dim=9216, n_layers=2, dropout=0.2, num_classes=2):\n",
        "        super(Vision_transformer, self).__init__()\n",
        "\n",
        "        # Attributes\n",
        "        self.height = 224\n",
        "        self.width = 224\n",
        "        self.patch_size = patch_size\n",
        "        self.n_layers = n_layers\n",
        "\n",
        "        # Load pre-trained ResNet without final layer\n",
        "        resnet =resnet18(pretrained=True)\n",
        "        self.new_reset = nn.Sequential(*list(resnet.children())[:-2])\n",
        "\n",
        "        # Freeze parameters of ResNet backbone\n",
        "        for param in self.new_reset.parameters():\n",
        "            param.requires_grad = False\n",
        "\n",
        "        # Patching\n",
        "        self.patch_embedding = PatchEmbedding()\n",
        "\n",
        "        # Learnable params\n",
        "        self.pos_embedding = nn.Parameter(torch.randn(1, 5, emb_dim),requires_grad=True)\n",
        "        self.cls_token = nn.Parameter(torch.rand(1, 1, emb_dim),requires_grad=True)\n",
        "\n",
        "        # Transformer Encoder\n",
        "        self.layers = nn.ModuleList([])\n",
        "        for _ in range(n_layers):\n",
        "            transformer_block = nn.Sequential(\n",
        "                ResidualAdd(PreNorm(emb_dim, Attention(emb_dim))),\n",
        "                ResidualAdd(PreNorm(emb_dim, FeedForward(emb_dim, emb_dim))))\n",
        "            self.layers.append(transformer_block)\n",
        "\n",
        "        # Classification head with modified final layer\n",
        "        self.head = nn.Sequential(\n",
        "            nn.LayerNorm(emb_dim),\n",
        "            nn.Linear(emb_dim, num_classes)  # Modify output dimension to num_classes\n",
        "        )\n",
        "        self.dropout = nn.Dropout(0.2)\n",
        "\n",
        "    def forward(self, img):\n",
        "        with torch.no_grad():\n",
        "            features = self.new_reset(img)\n",
        "        # Get patch embedding vectors\n",
        "        x = self.patch_embedding(features)\n",
        "\n",
        "        b, n, _ = x.shape\n",
        "\n",
        "        # Add cls token to inputs\n",
        "        cls_tokens = self.cls_token.expand(b, -1, -1)\n",
        "\n",
        "        x = torch.cat((cls_tokens, x), dim=1)\n",
        "        # Add positional embeddings\n",
        "        x += self.pos_embedding\n",
        "        x = self.dropout(x)\n",
        "\n",
        "        # Transformer layers\n",
        "        for i in range(self.n_layers):\n",
        "            x = self.layers[i](x)\n",
        "        # Classification token\n",
        "        x = x[:, 0]\n",
        "        x = self.head(x)\n",
        "\n",
        "        # Output based on classification token\n",
        "        return x\n",
        "\n",
        "# Create an instance of Vision_transformer\n",
        "model = Vision_transformer(num_classes=1)  # Example: 1 output class for binary classification"
      ],
      "metadata": {
        "colab": {
          "base_uri": "https://localhost:8080/"
        },
        "id": "-6BRTW2MnSL2",
        "outputId": "7571b48d-69be-46c2-cd3d-2561a1ee381b"
      },
      "execution_count": 17,
      "outputs": [
        {
          "output_type": "stream",
          "name": "stderr",
          "text": [
            "/usr/local/lib/python3.10/dist-packages/torchvision/models/_utils.py:208: UserWarning: The parameter 'pretrained' is deprecated since 0.13 and may be removed in the future, please use 'weights' instead.\n",
            "  warnings.warn(\n",
            "/usr/local/lib/python3.10/dist-packages/torchvision/models/_utils.py:223: UserWarning: Arguments other than a weight enum or `None` for 'weights' are deprecated since 0.13 and may be removed in the future. The current behavior is equivalent to passing `weights=AlexNet_Weights.IMAGENET1K_V1`. You can also use `weights=AlexNet_Weights.DEFAULT` to get the most up-to-date weights.\n",
            "  warnings.warn(msg)\n",
            "Downloading: \"https://download.pytorch.org/models/alexnet-owt-7be5be79.pth\" to /root/.cache/torch/hub/checkpoints/alexnet-owt-7be5be79.pth\n",
            "100%|██████████| 233M/233M [00:01<00:00, 175MB/s]\n"
          ]
        }
      ]
    },
    {
      "cell_type": "code",
      "source": [
        "import torch.optim as optim\n",
        "\n",
        "device = torch.device(\"cuda\" if torch.cuda.is_available() else \"cpu\")\n",
        "print(device)\n",
        "model.to(device)\n",
        "\n",
        "criterion = nn.CrossEntropyLoss()\n",
        "optimizer = optim.SGD(model.parameters(), lr=0.001, momentum=0.9)"
      ],
      "metadata": {
        "colab": {
          "base_uri": "https://localhost:8080/"
        },
        "id": "k23vgXGkoSgL",
        "outputId": "41ecdf90-1d0d-4701-ca3e-29804a6b733d"
      },
      "execution_count": 18,
      "outputs": [
        {
          "output_type": "stream",
          "name": "stdout",
          "text": [
            "cuda\n"
          ]
        }
      ]
    },
    {
      "cell_type": "code",
      "source": [
        "def train_and_validate(model, train_loader, vali_loader, device, num_epochs):\n",
        "    train_losses, train_accuracies = [], []\n",
        "    validation_losses, validation_accuracies = [], []\n",
        "    train_predictions = []\n",
        "    vali_predictions = []\n",
        "\n",
        "    for epoch in range(num_epochs):\n",
        "        model.train()\n",
        "        train_loss = 0\n",
        "        train_predicted_true = 0\n",
        "        total_train = 0\n",
        "\n",
        "        for inputs, labels in train_loader:\n",
        "            inputs = inputs.to(device)\n",
        "            labels = labels.float().to(device)\n",
        "            optimizer.zero_grad()\n",
        "            outputs = model(inputs)\n",
        "            loss = criterion(outputs.squeeze(), labels)\n",
        "            loss.backward()\n",
        "            optimizer.step()\n",
        "            train_loss += loss.item()\n",
        "\n",
        "            predictions = torch.sigmoid(outputs)\n",
        "            predictions_classified = torch.where(predictions > 0.5, torch.tensor(1.0), torch.tensor(0.0))\n",
        "            for i in range(len(predictions_classified)):\n",
        "              if predictions_classified[i] == labels[i]:\n",
        "                train_predicted_true += 1\n",
        "            # Convert sigmoid outputs to binary predictions\n",
        "            total_train += labels.size(0)\n",
        "\n",
        "        train_losses.append(train_loss / len(train_loader))\n",
        "        train_accuracies.append(train_predicted_true*100 / len(train_set))\n",
        "\n",
        "        # Validation\n",
        "        model.eval()\n",
        "        vali_loss = 0\n",
        "        vali_predicted_true = 0\n",
        "        total_val = 0\n",
        "\n",
        "        with torch.no_grad():\n",
        "            for inputs, labels in vali_loader:\n",
        "                inputs, labels = inputs.to(device),labels.float().to(device)\n",
        "                outputs = model(inputs)\n",
        "                vali_loss += criterion(outputs.squeeze(), labels).item()\n",
        "                vali_predictions = torch.sigmoid(outputs)\n",
        "                vali_predictions_classified = torch.where(vali_predictions > 0.5, torch.tensor(1.0), torch.tensor(0.0))\n",
        "                for i in range(len(vali_predictions_classified)):\n",
        "                  if vali_predictions_classified[i] == labels[i]:\n",
        "                    vali_predicted_true += 1\n",
        "\n",
        "                total_val += labels.size(0)\n",
        "\n",
        "        vali_loss_epoch = vali_loss / len(vali_loader)\n",
        "        vali_acc_epoch = vali_predicted_true*100 / len(vali_set)\n",
        "        validation_losses.append(vali_loss_epoch)\n",
        "        validation_accuracies.append(vali_acc_epoch)\n",
        "\n",
        "        # Print stats\n",
        "        print(f\"Epoch {epoch+1}/{num_epochs}\")\n",
        "        print(f\"Training Loss: {train_losses[-1]:.4f}, Accuracy: {train_accuracies[-1]:.4f}\")\n",
        "        print(f\"Validation Loss: {validation_losses[-1]:.4f}, Accuracy: {validation_accuracies[-1]:.4f}\")\n",
        "\n",
        "    return train_losses, train_accuracies, validation_losses, validation_accuracies\n"
      ],
      "metadata": {
        "id": "y6vnTjacnnPo"
      },
      "execution_count": 19,
      "outputs": []
    },
    {
      "cell_type": "code",
      "source": [
        "train_losses, train_accuracies, validation_losses, validation_accuracies = train_and_validate(\n",
        "    model=model,\n",
        "    train_loader=train_loader,\n",
        "    vali_loader=vali_loader,\n",
        "    device=device,\n",
        "    num_epochs=10)"
      ],
      "metadata": {
        "colab": {
          "base_uri": "https://localhost:8080/"
        },
        "id": "uhKTwrTUo_Ix",
        "outputId": "757eb976-9fec-4714-8aac-81d36742d083"
      },
      "execution_count": 20,
      "outputs": [
        {
          "output_type": "stream",
          "name": "stdout",
          "text": [
            "Epoch 1/10\n",
            "Training Loss: 191.3617, Accuracy: 49.4225\n",
            "Validation Loss: 53.1428, Accuracy: 51.8200\n",
            "Epoch 2/10\n",
            "Training Loss: 56.9945, Accuracy: 49.6675\n",
            "Validation Loss: 53.1428, Accuracy: 51.8200\n",
            "Epoch 3/10\n",
            "Training Loss: 56.6387, Accuracy: 50.0125\n",
            "Validation Loss: 53.1339, Accuracy: 51.8200\n",
            "Epoch 4/10\n",
            "Training Loss: 56.5016, Accuracy: 49.7400\n",
            "Validation Loss: 53.1428, Accuracy: 51.8200\n",
            "Epoch 5/10\n",
            "Training Loss: 56.4712, Accuracy: 50.1950\n",
            "Validation Loss: 53.1516, Accuracy: 51.8200\n",
            "Epoch 6/10\n",
            "Training Loss: 56.3866, Accuracy: 50.1225\n",
            "Validation Loss: 53.1516, Accuracy: 48.1800\n",
            "Epoch 7/10\n",
            "Training Loss: 56.3154, Accuracy: 50.1000\n",
            "Validation Loss: 53.1251, Accuracy: 51.8200\n",
            "Epoch 8/10\n",
            "Training Loss: 56.3106, Accuracy: 49.7700\n",
            "Validation Loss: 53.1251, Accuracy: 51.8200\n",
            "Epoch 9/10\n",
            "Training Loss: 56.2429, Accuracy: 49.7275\n",
            "Validation Loss: 53.1339, Accuracy: 48.1800\n",
            "Epoch 10/10\n",
            "Training Loss: 56.2348, Accuracy: 50.2300\n",
            "Validation Loss: 53.1516, Accuracy: 51.8200\n"
          ]
        }
      ]
    },
    {
      "cell_type": "code",
      "source": [
        "def test(model):\n",
        "  correct_test = 0\n",
        "  test_loss = 0\n",
        "  total_test=0\n",
        "  test_predictions = []\n",
        "  labels_test_total = []\n",
        "  test_predicted_true = 0\n",
        "  with torch.no_grad():\n",
        "    for inputs, labels_test in test_loader:\n",
        "        inputs,labels_test = inputs.to(device), labels_test.float().to(device)\n",
        "        test_output = model(inputs)\n",
        "        loss = criterion(test_output.squeeze(), labels_test)\n",
        "        test_loss += loss.item()\n",
        "        predicted_test_classes = torch.sigmoid(test_output)\n",
        "        predicted_test_classes_modified = predicted_test_classes.clone()\n",
        "        predicted_test_classes_modified[test_output > 0.5] = 1.0\n",
        "        predicted_test_classes_modified[test_output <= 0.5] = 0.0\n",
        "        for i in range(len(predicted_test_classes_modified)):\n",
        "          if predicted_test_classes_modified[i] == labels_test[i]:\n",
        "            test_predicted_true += 1\n",
        "        total_test += labels_test.size(0)\n",
        "        test_predictions.extend(predicted_test_classes_modified)\n",
        "        labels_test_total.extend(labels_test)\n",
        "\n",
        "  test_loss = test_loss / len(test_loader)\n",
        "  test_accuracy = 100 * test_predicted_true / len(test_set)\n",
        "\n",
        "  print(f\"Test Accuracy: {test_accuracy:.2f}%\")\n",
        "  print(f\"Test Loss: {test_loss:.4f}\")\n",
        "\n",
        "  return labels_test_total, test_predictions, predicted_test_classes, test_loss, test_accuracy\n"
      ],
      "metadata": {
        "id": "omWim44049Dw"
      },
      "execution_count": 21,
      "outputs": []
    },
    {
      "cell_type": "code",
      "source": [
        "test_labels, test_predictions, predicted_test_classes, test_loss, test_accuracy = test(model)"
      ],
      "metadata": {
        "colab": {
          "base_uri": "https://localhost:8080/"
        },
        "id": "ReBuYsdj5ESR",
        "outputId": "0eabc68a-5fd5-4f31-fb31-681d5eb2c8e7"
      },
      "execution_count": 22,
      "outputs": [
        {
          "output_type": "stream",
          "name": "stdout",
          "text": [
            "Test Accuracy: 50.60%\n",
            "Test Loss: 54.5070\n"
          ]
        }
      ]
    },
    {
      "cell_type": "code",
      "source": [
        "from sklearn.metrics import confusion_matrix, roc_curve, auc, classification_report, accuracy_score, roc_auc_score, precision_score, recall_score, f1_score\n",
        "import seaborn as sns\n",
        "\n",
        "def metrics(labels_test_total, predicted_test_classes, test_probabilities, test_loss, train_losses, validation_losses, train_accuracies, validation_accuracies):\n",
        "\n",
        "    # Move tensors to CPU and detach from the computation graph\n",
        "    labels_test_cpu = [labels.cpu() for labels in labels_test_total]\n",
        "    predicted_test_classes_cpu = [predictions.cpu() for predictions in predicted_test_classes]\n",
        "    test_probabilities_cpu = test_probabilities.cpu().detach().numpy()\n",
        "    test_loss_cpu = test_loss\n",
        "\n",
        "    accuracy = accuracy_score(labels_test_cpu, predicted_test_classes_cpu)\n",
        "    precision = precision_score(labels_test_cpu, predicted_test_classes_cpu, average='micro')\n",
        "    recall = recall_score(labels_test_cpu, predicted_test_classes_cpu, average='micro')\n",
        "    f1Score = f1_score(labels_test_cpu, predicted_test_classes_cpu, average='micro')\n",
        "    classify_report = classification_report(labels_test_cpu, predicted_test_classes_cpu)\n",
        "\n",
        "    # Print classification metrics\n",
        "    print(\"Accuracy:\", accuracy)\n",
        "    print(\"precision_score: \", precision)\n",
        "    print(\"recall_score: \", recall)\n",
        "    print(\"f1_score: \", f1Score)\n",
        "    print(\"Classification Report:\")\n",
        "    print(classify_report)\n",
        "\n",
        "    # Plot loss and accuracy curves\n",
        "    fig, (ax1, ax2) = plt.subplots(1, 2, figsize=(16, 6))\n",
        "\n",
        "    ax1.plot(train_losses, label='Training Loss')\n",
        "    ax1.plot(validation_losses, label='Validation Loss')\n",
        "    ax1.axhline(y=test_loss_cpu, color='r', linestyle='--', label='Test Loss')\n",
        "    ax1.set_title('Training and Validation Loss')\n",
        "    ax1.set_xlabel('Epoch')\n",
        "    ax1.set_ylabel('Loss')\n",
        "    ax1.legend()\n",
        "\n",
        "    ax2.plot(train_accuracies, label='Training Accuracy')\n",
        "    ax2.plot(validation_accuracies, label='Validation Accuracy')\n",
        "    ax2.axhline(y=accuracy, color='r', linestyle='--', label='Test Accuracy')\n",
        "    ax2.set_title('Training and Validation Accuracy')\n",
        "    ax2.set_xlabel('Epoch')\n",
        "    ax2.set_ylabel('Accuracy')\n",
        "    ax2.legend()\n",
        "\n",
        "    plt.tight_layout()\n",
        "    plt.show()\n",
        "\n",
        "    # Plot confusion matrix\n",
        "    cm = confusion_matrix(labels_test_cpu, predicted_test_classes_cpu)\n",
        "    sns.heatmap(cm, annot=True, fmt='d', cmap='Blues')\n",
        "    plt.xlabel('Predicted')\n",
        "    plt.ylabel('Actual')\n",
        "    plt.title('Confusion Matrix')\n",
        "    plt.show()"
      ],
      "metadata": {
        "id": "RC418dHBzN46"
      },
      "execution_count": 23,
      "outputs": []
    },
    {
      "cell_type": "code",
      "source": [
        "metrics(test_labels, test_predictions, predicted_test_classes.cpu(), test_loss, train_losses, validation_losses, train_accuracies, validation_accuracies)"
      ],
      "metadata": {
        "colab": {
          "base_uri": "https://localhost:8080/",
          "height": 1000
        },
        "id": "BF6gDzfizrv-",
        "outputId": "fd4779cf-ee03-4374-a394-de0dfd755b77"
      },
      "execution_count": 24,
      "outputs": [
        {
          "output_type": "stream",
          "name": "stderr",
          "text": [
            "/usr/local/lib/python3.10/dist-packages/sklearn/metrics/_classification.py:1344: UndefinedMetricWarning: Precision and F-score are ill-defined and being set to 0.0 in labels with no predicted samples. Use `zero_division` parameter to control this behavior.\n",
            "  _warn_prf(average, modifier, msg_start, len(result))\n",
            "/usr/local/lib/python3.10/dist-packages/sklearn/metrics/_classification.py:1344: UndefinedMetricWarning: Precision and F-score are ill-defined and being set to 0.0 in labels with no predicted samples. Use `zero_division` parameter to control this behavior.\n",
            "  _warn_prf(average, modifier, msg_start, len(result))\n",
            "/usr/local/lib/python3.10/dist-packages/sklearn/metrics/_classification.py:1344: UndefinedMetricWarning: Precision and F-score are ill-defined and being set to 0.0 in labels with no predicted samples. Use `zero_division` parameter to control this behavior.\n",
            "  _warn_prf(average, modifier, msg_start, len(result))\n"
          ]
        },
        {
          "output_type": "stream",
          "name": "stdout",
          "text": [
            "Accuracy: 0.506\n",
            "precision_score:  0.506\n",
            "recall_score:  0.506\n",
            "f1_score:  0.506\n",
            "Classification Report:\n",
            "              precision    recall  f1-score   support\n",
            "\n",
            "         0.0       0.51      1.00      0.67      2530\n",
            "         1.0       0.00      0.00      0.00      2470\n",
            "\n",
            "    accuracy                           0.51      5000\n",
            "   macro avg       0.25      0.50      0.34      5000\n",
            "weighted avg       0.26      0.51      0.34      5000\n",
            "\n"
          ]
        },
        {
          "output_type": "display_data",
          "data": {
            "text/plain": [
              "<Figure size 1600x600 with 2 Axes>"
            ],
            "image/png": "[encoded data removed]"
          },
          "metadata": {}
        },
        {
          "output_type": "display_data",
          "data": {
            "text/plain": [
              "<Figure size 640x480 with 2 Axes>"
            ],
            "image/png": "[encoded data removed]"
          },
          "metadata": {}
        }
      ]
    }
  ]
}
