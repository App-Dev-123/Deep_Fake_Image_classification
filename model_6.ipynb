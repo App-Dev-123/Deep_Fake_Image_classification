{
  "nbformat": 4,
  "nbformat_minor": 0,
  "metadata": {
    "colab": {
      "provenance": [],
      "machine_shape": "hm",
      "gpuType": "T4"
    },
    "kernelspec": {
      "name": "python3",
      "display_name": "Python 3"
    },
    "language_info": {
      "name": "python"
    },
    "accelerator": "GPU",
    "widgets": {
      "application/vnd.jupyter.widget-state+json": {
        "4945747d8c42476ebbebc80c6fcd409b": {
          "model_module": "@jupyter-widgets/controls",
          "model_name": "HBoxModel",
          "model_module_version": "1.5.0",
          "state": {
            "_dom_classes": [],
            "_model_module": "@jupyter-widgets/controls",
            "_model_module_version": "1.5.0",
            "_model_name": "HBoxModel",
            "_view_count": null,
            "_view_module": "@jupyter-widgets/controls",
            "_view_module_version": "1.5.0",
            "_view_name": "HBoxView",
            "box_style": "",
            "children": [
              "IPY_MODEL_408ed378b4224cbabbe6b60739dfb172",
              "IPY_MODEL_f1db2fabc5fb43adab0d2e0a2a06ad43",
              "IPY_MODEL_4e84290b596c455e8d90b8bc4387b613"
            ],
            "layout": "IPY_MODEL_0453b365a7b34b4f83ff911db913936b"
          }
        },
        "408ed378b4224cbabbe6b60739dfb172": {
          "model_module": "@jupyter-widgets/controls",
          "model_name": "HTMLModel",
          "model_module_version": "1.5.0",
          "state": {
            "_dom_classes": [],
            "_model_module": "@jupyter-widgets/controls",
            "_model_module_version": "1.5.0",
            "_model_name": "HTMLModel",
            "_view_count": null,
            "_view_module": "@jupyter-widgets/controls",
            "_view_module_version": "1.5.0",
            "_view_name": "HTMLView",
            "description": "",
            "description_tooltip": null,
            "layout": "IPY_MODEL_d844002c42ca46ce9c95ee15735d4d15",
            "placeholder": "​",
            "style": "IPY_MODEL_a73f800b4ef44c6d987f4abe5bc05771",
            "value": "model.safetensors: 100%"
          }
        },
        "f1db2fabc5fb43adab0d2e0a2a06ad43": {
          "model_module": "@jupyter-widgets/controls",
          "model_name": "FloatProgressModel",
          "model_module_version": "1.5.0",
          "state": {
            "_dom_classes": [],
            "_model_module": "@jupyter-widgets/controls",
            "_model_module_version": "1.5.0",
            "_model_name": "FloatProgressModel",
            "_view_count": null,
            "_view_module": "@jupyter-widgets/controls",
            "_view_module_version": "1.5.0",
            "_view_name": "ProgressView",
            "bar_style": "success",
            "description": "",
            "description_tooltip": null,
            "layout": "IPY_MODEL_1d2f6833d5b642c79f240949fdc34c6c",
            "max": 346284714,
            "min": 0,
            "orientation": "horizontal",
            "style": "IPY_MODEL_fdd3831591d641d2904236be90db30da",
            "value": 346284714
          }
        },
        "4e84290b596c455e8d90b8bc4387b613": {
          "model_module": "@jupyter-widgets/controls",
          "model_name": "HTMLModel",
          "model_module_version": "1.5.0",
          "state": {
            "_dom_classes": [],
            "_model_module": "@jupyter-widgets/controls",
            "_model_module_version": "1.5.0",
            "_model_name": "HTMLModel",
            "_view_count": null,
            "_view_module": "@jupyter-widgets/controls",
            "_view_module_version": "1.5.0",
            "_view_name": "HTMLView",
            "description": "",
            "description_tooltip": null,
            "layout": "IPY_MODEL_89590fd1b904420783f4e7c82801773d",
            "placeholder": "​",
            "style": "IPY_MODEL_36d39757fd53410497b4ac1c6f29b298",
            "value": " 346M/346M [00:00&lt;00:00, 409MB/s]"
          }
        },
        "0453b365a7b34b4f83ff911db913936b": {
          "model_module": "@jupyter-widgets/base",
          "model_name": "LayoutModel",
          "model_module_version": "1.2.0",
          "state": {
            "_model_module": "@jupyter-widgets/base",
            "_model_module_version": "1.2.0",
            "_model_name": "LayoutModel",
            "_view_count": null,
            "_view_module": "@jupyter-widgets/base",
            "_view_module_version": "1.2.0",
            "_view_name": "LayoutView",
            "align_content": null,
            "align_items": null,
            "align_self": null,
            "border": null,
            "bottom": null,
            "display": null,
            "flex": null,
            "flex_flow": null,
            "grid_area": null,
            "grid_auto_columns": null,
            "grid_auto_flow": null,
            "grid_auto_rows": null,
            "grid_column": null,
            "grid_gap": null,
            "grid_row": null,
            "grid_template_areas": null,
            "grid_template_columns": null,
            "grid_template_rows": null,
            "height": null,
            "justify_content": null,
            "justify_items": null,
            "left": null,
            "margin": null,
            "max_height": null,
            "max_width": null,
            "min_height": null,
            "min_width": null,
            "object_fit": null,
            "object_position": null,
            "order": null,
            "overflow": null,
            "overflow_x": null,
            "overflow_y": null,
            "padding": null,
            "right": null,
            "top": null,
            "visibility": null,
            "width": null
          }
        },
        "d844002c42ca46ce9c95ee15735d4d15": {
          "model_module": "@jupyter-widgets/base",
          "model_name": "LayoutModel",
          "model_module_version": "1.2.0",
          "state": {
            "_model_module": "@jupyter-widgets/base",
            "_model_module_version": "1.2.0",
            "_model_name": "LayoutModel",
            "_view_count": null,
            "_view_module": "@jupyter-widgets/base",
            "_view_module_version": "1.2.0",
            "_view_name": "LayoutView",
            "align_content": null,
            "align_items": null,
            "align_self": null,
            "border": null,
            "bottom": null,
            "display": null,
            "flex": null,
            "flex_flow": null,
            "grid_area": null,
            "grid_auto_columns": null,
            "grid_auto_flow": null,
            "grid_auto_rows": null,
            "grid_column": null,
            "grid_gap": null,
            "grid_row": null,
            "grid_template_areas": null,
            "grid_template_columns": null,
            "grid_template_rows": null,
            "height": null,
            "justify_content": null,
            "justify_items": null,
            "left": null,
            "margin": null,
            "max_height": null,
            "max_width": null,
            "min_height": null,
            "min_width": null,
            "object_fit": null,
            "object_position": null,
            "order": null,
            "overflow": null,
            "overflow_x": null,
            "overflow_y": null,
            "padding": null,
            "right": null,
            "top": null,
            "visibility": null,
            "width": null
          }
        },
        "a73f800b4ef44c6d987f4abe5bc05771": {
          "model_module": "@jupyter-widgets/controls",
          "model_name": "DescriptionStyleModel",
          "model_module_version": "1.5.0",
          "state": {
            "_model_module": "@jupyter-widgets/controls",
            "_model_module_version": "1.5.0",
            "_model_name": "DescriptionStyleModel",
            "_view_count": null,
            "_view_module": "@jupyter-widgets/base",
            "_view_module_version": "1.2.0",
            "_view_name": "StyleView",
            "description_width": ""
          }
        },
        "1d2f6833d5b642c79f240949fdc34c6c": {
          "model_module": "@jupyter-widgets/base",
          "model_name": "LayoutModel",
          "model_module_version": "1.2.0",
          "state": {
            "_model_module": "@jupyter-widgets/base",
            "_model_module_version": "1.2.0",
            "_model_name": "LayoutModel",
            "_view_count": null,
            "_view_module": "@jupyter-widgets/base",
            "_view_module_version": "1.2.0",
            "_view_name": "LayoutView",
            "align_content": null,
            "align_items": null,
            "align_self": null,
            "border": null,
            "bottom": null,
            "display": null,
            "flex": null,
            "flex_flow": null,
            "grid_area": null,
            "grid_auto_columns": null,
            "grid_auto_flow": null,
            "grid_auto_rows": null,
            "grid_column": null,
            "grid_gap": null,
            "grid_row": null,
            "grid_template_areas": null,
            "grid_template_columns": null,
            "grid_template_rows": null,
            "height": null,
            "justify_content": null,
            "justify_items": null,
            "left": null,
            "margin": null,
            "max_height": null,
            "max_width": null,
            "min_height": null,
            "min_width": null,
            "object_fit": null,
            "object_position": null,
            "order": null,
            "overflow": null,
            "overflow_x": null,
            "overflow_y": null,
            "padding": null,
            "right": null,
            "top": null,
            "visibility": null,
            "width": null
          }
        },
        "fdd3831591d641d2904236be90db30da": {
          "model_module": "@jupyter-widgets/controls",
          "model_name": "ProgressStyleModel",
          "model_module_version": "1.5.0",
          "state": {
            "_model_module": "@jupyter-widgets/controls",
            "_model_module_version": "1.5.0",
            "_model_name": "ProgressStyleModel",
            "_view_count": null,
            "_view_module": "@jupyter-widgets/base",
            "_view_module_version": "1.2.0",
            "_view_name": "StyleView",
            "bar_color": null,
            "description_width": ""
          }
        },
        "89590fd1b904420783f4e7c82801773d": {
          "model_module": "@jupyter-widgets/base",
          "model_name": "LayoutModel",
          "model_module_version": "1.2.0",
          "state": {
            "_model_module": "@jupyter-widgets/base",
            "_model_module_version": "1.2.0",
            "_model_name": "LayoutModel",
            "_view_count": null,
            "_view_module": "@jupyter-widgets/base",
            "_view_module_version": "1.2.0",
            "_view_name": "LayoutView",
            "align_content": null,
            "align_items": null,
            "align_self": null,
            "border": null,
            "bottom": null,
            "display": null,
            "flex": null,
            "flex_flow": null,
            "grid_area": null,
            "grid_auto_columns": null,
            "grid_auto_flow": null,
            "grid_auto_rows": null,
            "grid_column": null,
            "grid_gap": null,
            "grid_row": null,
            "grid_template_areas": null,
            "grid_template_columns": null,
            "grid_template_rows": null,
            "height": null,
            "justify_content": null,
            "justify_items": null,
            "left": null,
            "margin": null,
            "max_height": null,
            "max_width": null,
            "min_height": null,
            "min_width": null,
            "object_fit": null,
            "object_position": null,
            "order": null,
            "overflow": null,
            "overflow_x": null,
            "overflow_y": null,
            "padding": null,
            "right": null,
            "top": null,
            "visibility": null,
            "width": null
          }
        },
        "36d39757fd53410497b4ac1c6f29b298": {
          "model_module": "@jupyter-widgets/controls",
          "model_name": "DescriptionStyleModel",
          "model_module_version": "1.5.0",
          "state": {
            "_model_module": "@jupyter-widgets/controls",
            "_model_module_version": "1.5.0",
            "_model_name": "DescriptionStyleModel",
            "_view_count": null,
            "_view_module": "@jupyter-widgets/base",
            "_view_module_version": "1.2.0",
            "_view_name": "StyleView",
            "description_width": ""
          }
        }
      }
    }
  },
  "cells": [
    {
      "cell_type": "code",
      "source": [
        "import numpy as np\n",
        "import pandas as pd\n",
        "import matplotlib.pyplot as plt\n",
        "import bz2\n",
        "import re\n",
        "import zipfile\n",
        "import os\n",
        "from PIL import Image\n",
        "import random\n",
        "from sklearn.model_selection import train_test_split\n",
        "from sklearn.preprocessing import LabelEncoder\n",
        "from sklearn.metrics import accuracy_score\n",
        "import torch\n",
        "import torch.nn as nn\n",
        "import torch.nn.functional as F\n",
        "import torch.optim as optim\n",
        "from torch.utils.data import DataLoader, TensorDataset\n",
        "from torchvision import transforms\n",
        "from torchvision.datasets import ImageFolder"
      ],
      "metadata": {
        "id": "_C-NgMrjQ0OR"
      },
      "execution_count": 2,
      "outputs": []
    },
    {
      "cell_type": "code",
      "source": [
        "from google.colab import drive\n",
        "\n",
        "drive.mount('/content/drive')"
      ],
      "metadata": {
        "colab": {
          "base_uri": "https://localhost:8080/"
        },
        "id": "xJkALGYNQ0xT",
        "outputId": "8b797244-25a9-45cc-d196-75ddc002d7b0"
      },
      "execution_count": 3,
      "outputs": [
        {
          "output_type": "stream",
          "name": "stdout",
          "text": [
            "Mounted at /content/drive\n"
          ]
        }
      ]
    },
    {
      "cell_type": "code",
      "source": [
        "zip_file_path = '/content/drive/MyDrive/deep_fake.zip'\n",
        "destination_directory = '/content/deep_fake'\n",
        "\n",
        "# Unzip the file\n",
        "with zipfile.ZipFile(zip_file_path, 'r') as zip_ref:\n",
        "    zip_ref.extractall(destination_directory)\n",
        "\n",
        "# Print confirmation message\n",
        "print(\"Unzipping complete!\")\n",
        "\n",
        "import random\n",
        "dataset_dir = '/content/deep_fake/Dataset/Train/Real'\n",
        "folder = dataset_dir\n",
        "\n",
        "random_img_path = os.path.join(folder, random.choice(os.listdir(folder)))\n",
        "print(\"Random image size before preprocessing:\", Image.open(random_img_path).size)"
      ],
      "metadata": {
        "colab": {
          "base_uri": "https://localhost:8080/"
        },
        "id": "hvpiU-GMQ24z",
        "outputId": "71613aa7-3368-4b99-f2f3-2c91bda764bb"
      },
      "execution_count": 4,
      "outputs": [
        {
          "output_type": "stream",
          "name": "stdout",
          "text": [
            "Unzipping complete!\n",
            "Random image size before preprocessing: (256, 256)\n"
          ]
        }
      ]
    },
    {
      "cell_type": "code",
      "source": [
        "from torchvision import datasets, transforms\n",
        "data_transform = transforms.Compose([\n",
        "    transforms.ToTensor(),\n",
        "    transforms.Resize((224, 224)),\n",
        "    transforms.Normalize(mean=[0.485, 0.456, 0.406],\n",
        "                         std=[0.229, 0.224, 0.225])\n",
        "])\n",
        "dataset = datasets.ImageFolder(root=\"/content/deep_fake/Dataset/Train\", transform=data_transform)\n"
      ],
      "metadata": {
        "id": "2HjOeTdUQ7bA"
      },
      "execution_count": 5,
      "outputs": []
    },
    {
      "cell_type": "code",
      "source": [
        "# Initialize the LabelEncoder\n",
        "label_encoder = LabelEncoder()\n",
        "\n",
        "# Fit label encoder and transform labels to numeric values (0 or 1)\n",
        "encoded_labels = label_encoder.fit_transform(dataset.classes)\n",
        "\n",
        "# Print the encoded labels\n",
        "print(encoded_labels)"
      ],
      "metadata": {
        "colab": {
          "base_uri": "https://localhost:8080/"
        },
        "id": "IpppZvxTQ-dZ",
        "outputId": "6c086586-4b33-4892-9a33-bc80955dab2f"
      },
      "execution_count": 6,
      "outputs": [
        {
          "output_type": "stream",
          "name": "stdout",
          "text": [
            "[0 1]\n"
          ]
        }
      ]
    },
    {
      "cell_type": "code",
      "source": [
        "from torch.utils.data import Subset\n",
        "\n",
        "# Separate samples by class\n",
        "real_samples = [idx for idx, (image, label) in enumerate(dataset.samples) if dataset.classes[label] == \"Real\"]\n",
        "fake_samples = [idx for idx, (image, label) in enumerate(dataset.samples) if dataset.classes[label] == \"Fake\"]\n",
        "\n",
        "# Randomly sample 20,000 samples from each class\n",
        "real_samples = np.random.choice(real_samples, 25000, replace=False)\n",
        "fake_samples = np.random.choice(fake_samples, 25000, replace=False)\n",
        "\n",
        "# Combine the sampled indices\n",
        "filtered_indices = np.concatenate([real_samples, fake_samples])\n",
        "filtered_samples = [dataset.samples[idx] for idx in filtered_indices]\n",
        "\n",
        "# Create a Subset dataset using the filtered samples\n",
        "filtered_dataset = Subset(dataset, filtered_indices)\n",
        "\n",
        "dataset = filtered_dataset\n",
        "# Define sizes for train, validation, and test sets\n",
        "train_size = int(0.9 * len(dataset))\n",
        "test_size = len(dataset) - train_size\n",
        "\n",
        "# Split the dataset into train, validation, and test sets\n",
        "train_set, test_set = torch.utils.data.random_split(dataset, [train_size, test_size])\n",
        "vali_size = int(0.11112*len(train_set))\n",
        "train_size = len(train_set) - vali_size\n",
        "train_set, vali_set = torch.utils.data.random_split(train_set, [train_size, vali_size])\n",
        "\n",
        "# Create DataLoader for train, validation, and test sets\n",
        "train_loader = DataLoader(train_set, batch_size=32,shuffle=True)\n",
        "vali_loader = DataLoader(vali_set, batch_size=32,shuffle=True)\n",
        "test_loader = DataLoader(test_set, batch_size=32,shuffle=True)"
      ],
      "metadata": {
        "id": "pR1mNxslRAOo"
      },
      "execution_count": 7,
      "outputs": []
    },
    {
      "cell_type": "code",
      "source": [
        "!pip install timm"
      ],
      "metadata": {
        "colab": {
          "base_uri": "https://localhost:8080/"
        },
        "id": "3c6x_osuexXE",
        "outputId": "2a21bd31-2505-47f3-ca4d-f3b699c135ac"
      },
      "execution_count": 8,
      "outputs": [
        {
          "output_type": "stream",
          "name": "stdout",
          "text": [
            "Collecting timm\n",
            "  Downloading timm-0.9.16-py3-none-any.whl (2.2 MB)\n",
            "\u001b[?25l     \u001b[90m━━━━━━━━━━━━━━━━━━━━━━━━━━━━━━━━━━━━━━━━\u001b[0m \u001b[32m0.0/2.2 MB\u001b[0m \u001b[31m?\u001b[0m eta \u001b[36m-:--:--\u001b[0m\r\u001b[2K     \u001b[91m━━━━━\u001b[0m\u001b[90m╺\u001b[0m\u001b[90m━━━━━━━━━━━━━━━━━━━━━━━━━━━━━━━━━━\u001b[0m \u001b[32m0.3/2.2 MB\u001b[0m \u001b[31m8.6 MB/s\u001b[0m eta \u001b[36m0:00:01\u001b[0m\r\u001b[2K     \u001b[90m━━━━━━━━━━━━━━━━━━━━━━━━━━━━━━━━━━━━━━━━\u001b[0m \u001b[32m2.2/2.2 MB\u001b[0m \u001b[31m33.7 MB/s\u001b[0m eta \u001b[36m0:00:00\u001b[0m\n",
            "\u001b[?25hRequirement already satisfied: torch in /usr/local/lib/python3.10/dist-packages (from timm) (2.2.1+cu121)\n",
            "Requirement already satisfied: torchvision in /usr/local/lib/python3.10/dist-packages (from timm) (0.17.1+cu121)\n",
            "Requirement already satisfied: pyyaml in /usr/local/lib/python3.10/dist-packages (from timm) (6.0.1)\n",
            "Requirement already satisfied: huggingface_hub in /usr/local/lib/python3.10/dist-packages (from timm) (0.20.3)\n",
            "Requirement already satisfied: safetensors in /usr/local/lib/python3.10/dist-packages (from timm) (0.4.3)\n",
            "Requirement already satisfied: filelock in /usr/local/lib/python3.10/dist-packages (from huggingface_hub->timm) (3.13.4)\n",
            "Requirement already satisfied: fsspec>=2023.5.0 in /usr/local/lib/python3.10/dist-packages (from huggingface_hub->timm) (2023.6.0)\n",
            "Requirement already satisfied: requests in /usr/local/lib/python3.10/dist-packages (from huggingface_hub->timm) (2.31.0)\n",
            "Requirement already satisfied: tqdm>=4.42.1 in /usr/local/lib/python3.10/dist-packages (from huggingface_hub->timm) (4.66.2)\n",
            "Requirement already satisfied: typing-extensions>=3.7.4.3 in /usr/local/lib/python3.10/dist-packages (from huggingface_hub->timm) (4.11.0)\n",
            "Requirement already satisfied: packaging>=20.9 in /usr/local/lib/python3.10/dist-packages (from huggingface_hub->timm) (24.0)\n",
            "Requirement already satisfied: sympy in /usr/local/lib/python3.10/dist-packages (from torch->timm) (1.12)\n",
            "Requirement already satisfied: networkx in /usr/local/lib/python3.10/dist-packages (from torch->timm) (3.3)\n",
            "Requirement already satisfied: jinja2 in /usr/local/lib/python3.10/dist-packages (from torch->timm) (3.1.3)\n",
            "Collecting nvidia-cuda-nvrtc-cu12==12.1.105 (from torch->timm)\n",
            "  Using cached nvidia_cuda_nvrtc_cu12-12.1.105-py3-none-manylinux1_x86_64.whl (23.7 MB)\n",
            "Collecting nvidia-cuda-runtime-cu12==12.1.105 (from torch->timm)\n",
            "  Using cached nvidia_cuda_runtime_cu12-12.1.105-py3-none-manylinux1_x86_64.whl (823 kB)\n",
            "Collecting nvidia-cuda-cupti-cu12==12.1.105 (from torch->timm)\n",
            "  Using cached nvidia_cuda_cupti_cu12-12.1.105-py3-none-manylinux1_x86_64.whl (14.1 MB)\n",
            "Collecting nvidia-cudnn-cu12==8.9.2.26 (from torch->timm)\n",
            "  Using cached nvidia_cudnn_cu12-8.9.2.26-py3-none-manylinux1_x86_64.whl (731.7 MB)\n",
            "Collecting nvidia-cublas-cu12==12.1.3.1 (from torch->timm)\n",
            "  Using cached nvidia_cublas_cu12-12.1.3.1-py3-none-manylinux1_x86_64.whl (410.6 MB)\n",
            "Collecting nvidia-cufft-cu12==11.0.2.54 (from torch->timm)\n",
            "  Using cached nvidia_cufft_cu12-11.0.2.54-py3-none-manylinux1_x86_64.whl (121.6 MB)\n",
            "Collecting nvidia-curand-cu12==10.3.2.106 (from torch->timm)\n",
            "  Using cached nvidia_curand_cu12-10.3.2.106-py3-none-manylinux1_x86_64.whl (56.5 MB)\n",
            "Collecting nvidia-cusolver-cu12==11.4.5.107 (from torch->timm)\n",
            "  Using cached nvidia_cusolver_cu12-11.4.5.107-py3-none-manylinux1_x86_64.whl (124.2 MB)\n",
            "Collecting nvidia-cusparse-cu12==12.1.0.106 (from torch->timm)\n",
            "  Using cached nvidia_cusparse_cu12-12.1.0.106-py3-none-manylinux1_x86_64.whl (196.0 MB)\n",
            "Collecting nvidia-nccl-cu12==2.19.3 (from torch->timm)\n",
            "  Using cached nvidia_nccl_cu12-2.19.3-py3-none-manylinux1_x86_64.whl (166.0 MB)\n",
            "Collecting nvidia-nvtx-cu12==12.1.105 (from torch->timm)\n",
            "  Using cached nvidia_nvtx_cu12-12.1.105-py3-none-manylinux1_x86_64.whl (99 kB)\n",
            "Requirement already satisfied: triton==2.2.0 in /usr/local/lib/python3.10/dist-packages (from torch->timm) (2.2.0)\n",
            "Collecting nvidia-nvjitlink-cu12 (from nvidia-cusolver-cu12==11.4.5.107->torch->timm)\n",
            "  Using cached nvidia_nvjitlink_cu12-12.4.127-py3-none-manylinux2014_x86_64.whl (21.1 MB)\n",
            "Requirement already satisfied: numpy in /usr/local/lib/python3.10/dist-packages (from torchvision->timm) (1.25.2)\n",
            "Requirement already satisfied: pillow!=8.3.*,>=5.3.0 in /usr/local/lib/python3.10/dist-packages (from torchvision->timm) (9.4.0)\n",
            "Requirement already satisfied: MarkupSafe>=2.0 in /usr/local/lib/python3.10/dist-packages (from jinja2->torch->timm) (2.1.5)\n",
            "Requirement already satisfied: charset-normalizer<4,>=2 in /usr/local/lib/python3.10/dist-packages (from requests->huggingface_hub->timm) (3.3.2)\n",
            "Requirement already satisfied: idna<4,>=2.5 in /usr/local/lib/python3.10/dist-packages (from requests->huggingface_hub->timm) (3.7)\n",
            "Requirement already satisfied: urllib3<3,>=1.21.1 in /usr/local/lib/python3.10/dist-packages (from requests->huggingface_hub->timm) (2.0.7)\n",
            "Requirement already satisfied: certifi>=2017.4.17 in /usr/local/lib/python3.10/dist-packages (from requests->huggingface_hub->timm) (2024.2.2)\n",
            "Requirement already satisfied: mpmath>=0.19 in /usr/local/lib/python3.10/dist-packages (from sympy->torch->timm) (1.3.0)\n",
            "Installing collected packages: nvidia-nvtx-cu12, nvidia-nvjitlink-cu12, nvidia-nccl-cu12, nvidia-curand-cu12, nvidia-cufft-cu12, nvidia-cuda-runtime-cu12, nvidia-cuda-nvrtc-cu12, nvidia-cuda-cupti-cu12, nvidia-cublas-cu12, nvidia-cusparse-cu12, nvidia-cudnn-cu12, nvidia-cusolver-cu12, timm\n",
            "Successfully installed nvidia-cublas-cu12-12.1.3.1 nvidia-cuda-cupti-cu12-12.1.105 nvidia-cuda-nvrtc-cu12-12.1.105 nvidia-cuda-runtime-cu12-12.1.105 nvidia-cudnn-cu12-8.9.2.26 nvidia-cufft-cu12-11.0.2.54 nvidia-curand-cu12-10.3.2.106 nvidia-cusolver-cu12-11.4.5.107 nvidia-cusparse-cu12-12.1.0.106 nvidia-nccl-cu12-2.19.3 nvidia-nvjitlink-cu12-12.4.127 nvidia-nvtx-cu12-12.1.105 timm-0.9.16\n"
          ]
        }
      ]
    },
    {
      "cell_type": "code",
      "source": [
        "import timm\n",
        "from timm.data import resolve_data_config\n",
        "from timm.data.transforms_factory import create_transform\n",
        "\n",
        "model_name = 'vit_base_patch16_224'  # You can choose a different model\n",
        "model = timm.create_model(model_name, pretrained=True, num_classes = 2)\n",
        "\n",
        "device = torch.device('cuda' if torch.cuda.is_available() else 'cpu')\n",
        "model = model.to(device)\n",
        "criterion = nn.CrossEntropyLoss()\n",
        "optimizer = optim.Adam(model.parameters(), lr=3e-4)"
      ],
      "metadata": {
        "colab": {
          "base_uri": "https://localhost:8080/",
          "height": 178,
          "referenced_widgets": [
            "4945747d8c42476ebbebc80c6fcd409b",
            "408ed378b4224cbabbe6b60739dfb172",
            "f1db2fabc5fb43adab0d2e0a2a06ad43",
            "4e84290b596c455e8d90b8bc4387b613",
            "0453b365a7b34b4f83ff911db913936b",
            "d844002c42ca46ce9c95ee15735d4d15",
            "a73f800b4ef44c6d987f4abe5bc05771",
            "1d2f6833d5b642c79f240949fdc34c6c",
            "fdd3831591d641d2904236be90db30da",
            "89590fd1b904420783f4e7c82801773d",
            "36d39757fd53410497b4ac1c6f29b298"
          ]
        },
        "id": "BFc_uqlSREs-",
        "outputId": "7aaab083-9300-4aa1-ca08-eadde5fa41d3"
      },
      "execution_count": 9,
      "outputs": [
        {
          "output_type": "stream",
          "name": "stderr",
          "text": [
            "/usr/local/lib/python3.10/dist-packages/huggingface_hub/utils/_token.py:88: UserWarning: \n",
            "The secret `HF_TOKEN` does not exist in your Colab secrets.\n",
            "To authenticate with the Hugging Face Hub, create a token in your settings tab (https://huggingface.co/settings/tokens), set it as secret in your Google Colab and restart your session.\n",
            "You will be able to reuse this secret in all of your notebooks.\n",
            "Please note that authentication is recommended but still optional to access public models or datasets.\n",
            "  warnings.warn(\n"
          ]
        },
        {
          "output_type": "display_data",
          "data": {
            "text/plain": [
              "model.safetensors:   0%|          | 0.00/346M [00:00<?, ?B/s]"
            ],
            "application/vnd.jupyter.widget-view+json": {
              "version_major": 2,
              "version_minor": 0,
              "model_id": "4945747d8c42476ebbebc80c6fcd409b"
            }
          },
          "metadata": {}
        }
      ]
    },
    {
      "cell_type": "code",
      "source": [
        "from tqdm import tqdm\n",
        "\n",
        "def train_and_validate(model, train_loader, vali_loader, optimizer, loss_fn, device, num_epochs=10, early_stopping=None):\n",
        "    train_loss, train_accuracy, validation_loss, validation_accuracy = [], [], [], []\n",
        "    best_val_accuracy = 0\n",
        "    epochs_no_improve = 0\n",
        "    early_stop = False\n",
        "\n",
        "    for epoch in range(num_epochs):\n",
        "        model.train()\n",
        "        running_train_loss, running_train_correct, total_train = 0.0, 0, 0\n",
        "\n",
        "        for inputs, labels in tqdm(train_loader, desc=f\"Epoch {epoch+1}/{num_epochs} - Training\"):\n",
        "            inputs, labels = inputs.to(device), labels.to(device)\n",
        "            optimizer.zero_grad()\n",
        "            outputs = model(inputs)\n",
        "            loss = loss_fn(outputs, labels)\n",
        "            loss.backward()\n",
        "            optimizer.step()\n",
        "\n",
        "            running_train_loss += loss.item()\n",
        "            _, predicted = torch.max(outputs, 1)\n",
        "            running_train_correct += (predicted == labels).sum().item()\n",
        "            total_train += labels.size(0)\n",
        "\n",
        "        train_loss.append(running_train_loss / len(train_loader))\n",
        "        train_accuracy.append(running_train_correct / total_train)\n",
        "\n",
        "        # Validation\n",
        "        model.eval()\n",
        "        running_val_loss, running_val_correct, total_val = 0.0, 0, 0\n",
        "\n",
        "        with torch.no_grad():\n",
        "            for inputs, labels in tqdm(vali_loader, desc=f\"Epoch {epoch+1}/{num_epochs} - Validation\"):\n",
        "                inputs, labels = inputs.to(device), labels.to(device)\n",
        "                outputs = model(inputs)\n",
        "                loss = loss_fn(outputs, labels)\n",
        "                running_val_loss += loss.item()\n",
        "                _, predicted = torch.max(outputs, 1)\n",
        "                running_val_correct += (predicted == labels).sum().item()\n",
        "                total_val += labels.size(0)\n",
        "\n",
        "        val_loss_epoch = running_val_loss / len(vali_loader)\n",
        "        val_acc_epoch = running_val_correct / total_val\n",
        "        validation_loss.append(val_loss_epoch)\n",
        "        validation_accuracy.append(val_acc_epoch)\n",
        "\n",
        "        # Print stats\n",
        "        print(f\"Epoch {epoch+1}/{num_epochs}\")\n",
        "        print(f\"Training Loss: {train_loss[-1]:.4f}, Accuracy: {train_accuracy[-1]:.4f}\")\n",
        "        print(f\"Validation Loss: {validation_loss[-1]:.4f}, Accuracy: {validation_accuracy[-1]:.4f}\")\n",
        "\n",
        "        # Check if validation accuracy has improved\n",
        "        if val_acc_epoch > best_val_accuracy:\n",
        "            best_val_accuracy = val_acc_epoch\n",
        "            torch.save(model.state_dict(), 'best_model.pth')\n",
        "            epochs_no_improve = 0\n",
        "        else:\n",
        "            epochs_no_improve += 1\n",
        "\n",
        "        # Check for early stopping\n",
        "        if early_stopping and epochs_no_improve >= early_stopping:\n",
        "            print(f'Early stopping triggered after {epochs_no_improve} epochs without improvement')\n",
        "            early_stop = True\n",
        "            break\n",
        "\n",
        "    if not early_stop:\n",
        "        print('Training completed without early stopping.')\n",
        "\n",
        "    return train_loss, train_accuracy, validation_loss, validation_accuracy"
      ],
      "metadata": {
        "id": "k-5ml2hMRYcV"
      },
      "execution_count": 14,
      "outputs": []
    },
    {
      "cell_type": "code",
      "source": [
        "# Train and validate the model\n",
        "train_loss, train_accuracy, val_loss, val_accuracy = train_and_validate(\n",
        "    model=model,\n",
        "    train_loader=train_loader,\n",
        "    vali_loader=vali_loader,\n",
        "    optimizer=optimizer,\n",
        "    loss_fn=criterion,\n",
        "    device=device,\n",
        "    num_epochs=10\n",
        ")"
      ],
      "metadata": {
        "colab": {
          "base_uri": "https://localhost:8080/"
        },
        "id": "rxlgeHDPRamm",
        "outputId": "20566b27-759f-4390-999d-100a58447648"
      },
      "execution_count": 17,
      "outputs": [
        {
          "output_type": "stream",
          "name": "stderr",
          "text": [
            "Epoch 1/10 - Training: 100%|██████████| 1250/1250 [22:21<00:00,  1.07s/it]\n",
            "Epoch 1/10 - Validation: 100%|██████████| 157/157 [00:59<00:00,  2.63it/s]\n"
          ]
        },
        {
          "output_type": "stream",
          "name": "stdout",
          "text": [
            "Epoch 1/10\n",
            "Training Loss: 0.5880, Accuracy: 0.6795\n",
            "Validation Loss: 0.5041, Accuracy: 0.7508\n"
          ]
        },
        {
          "output_type": "stream",
          "name": "stderr",
          "text": [
            "Epoch 2/10 - Training: 100%|██████████| 1250/1250 [22:20<00:00,  1.07s/it]\n",
            "Epoch 2/10 - Validation: 100%|██████████| 157/157 [00:59<00:00,  2.64it/s]\n"
          ]
        },
        {
          "output_type": "stream",
          "name": "stdout",
          "text": [
            "Epoch 2/10\n",
            "Training Loss: 0.4891, Accuracy: 0.7658\n",
            "Validation Loss: 0.4496, Accuracy: 0.7868\n"
          ]
        },
        {
          "output_type": "stream",
          "name": "stderr",
          "text": [
            "Epoch 3/10 - Training: 100%|██████████| 1250/1250 [22:20<00:00,  1.07s/it]\n",
            "Epoch 3/10 - Validation: 100%|██████████| 157/157 [00:59<00:00,  2.65it/s]\n"
          ]
        },
        {
          "output_type": "stream",
          "name": "stdout",
          "text": [
            "Epoch 3/10\n",
            "Training Loss: 0.4527, Accuracy: 0.7874\n",
            "Validation Loss: 0.4702, Accuracy: 0.7820\n"
          ]
        },
        {
          "output_type": "stream",
          "name": "stderr",
          "text": [
            "Epoch 4/10 - Training: 100%|██████████| 1250/1250 [22:20<00:00,  1.07s/it]\n",
            "Epoch 4/10 - Validation: 100%|██████████| 157/157 [00:59<00:00,  2.65it/s]\n"
          ]
        },
        {
          "output_type": "stream",
          "name": "stdout",
          "text": [
            "Epoch 4/10\n",
            "Training Loss: 0.4170, Accuracy: 0.8082\n",
            "Validation Loss: 0.4205, Accuracy: 0.8026\n"
          ]
        },
        {
          "output_type": "stream",
          "name": "stderr",
          "text": [
            "Epoch 5/10 - Training: 100%|██████████| 1250/1250 [22:19<00:00,  1.07s/it]\n",
            "Epoch 5/10 - Validation: 100%|██████████| 157/157 [00:59<00:00,  2.63it/s]\n"
          ]
        },
        {
          "output_type": "stream",
          "name": "stdout",
          "text": [
            "Epoch 5/10\n",
            "Training Loss: 0.3974, Accuracy: 0.8173\n",
            "Validation Loss: 0.3996, Accuracy: 0.8192\n"
          ]
        },
        {
          "output_type": "stream",
          "name": "stderr",
          "text": [
            "Epoch 6/10 - Training: 100%|██████████| 1250/1250 [22:21<00:00,  1.07s/it]\n",
            "Epoch 6/10 - Validation: 100%|██████████| 157/157 [00:59<00:00,  2.64it/s]\n"
          ]
        },
        {
          "output_type": "stream",
          "name": "stdout",
          "text": [
            "Epoch 6/10\n",
            "Training Loss: 0.3752, Accuracy: 0.8309\n",
            "Validation Loss: 0.4027, Accuracy: 0.8104\n"
          ]
        },
        {
          "output_type": "stream",
          "name": "stderr",
          "text": [
            "Epoch 7/10 - Training: 100%|██████████| 1250/1250 [22:20<00:00,  1.07s/it]\n",
            "Epoch 7/10 - Validation: 100%|██████████| 157/157 [00:59<00:00,  2.65it/s]\n"
          ]
        },
        {
          "output_type": "stream",
          "name": "stdout",
          "text": [
            "Epoch 7/10\n",
            "Training Loss: 0.3545, Accuracy: 0.8413\n",
            "Validation Loss: 0.3653, Accuracy: 0.8326\n"
          ]
        },
        {
          "output_type": "stream",
          "name": "stderr",
          "text": [
            "Epoch 8/10 - Training: 100%|██████████| 1250/1250 [22:19<00:00,  1.07s/it]\n",
            "Epoch 8/10 - Validation: 100%|██████████| 157/157 [00:59<00:00,  2.65it/s]\n"
          ]
        },
        {
          "output_type": "stream",
          "name": "stdout",
          "text": [
            "Epoch 8/10\n",
            "Training Loss: 0.3366, Accuracy: 0.8523\n",
            "Validation Loss: 0.3489, Accuracy: 0.8470\n"
          ]
        },
        {
          "output_type": "stream",
          "name": "stderr",
          "text": [
            "Epoch 9/10 - Training: 100%|██████████| 1250/1250 [22:18<00:00,  1.07s/it]\n",
            "Epoch 9/10 - Validation: 100%|██████████| 157/157 [00:59<00:00,  2.65it/s]\n"
          ]
        },
        {
          "output_type": "stream",
          "name": "stdout",
          "text": [
            "Epoch 9/10\n",
            "Training Loss: 0.3151, Accuracy: 0.8624\n",
            "Validation Loss: 0.3540, Accuracy: 0.8466\n"
          ]
        },
        {
          "output_type": "stream",
          "name": "stderr",
          "text": [
            "Epoch 10/10 - Training: 100%|██████████| 1250/1250 [22:17<00:00,  1.07s/it]\n",
            "Epoch 10/10 - Validation: 100%|██████████| 157/157 [00:59<00:00,  2.65it/s]\n"
          ]
        },
        {
          "output_type": "stream",
          "name": "stdout",
          "text": [
            "Epoch 10/10\n",
            "Training Loss: 0.3051, Accuracy: 0.8667\n",
            "Validation Loss: 0.3465, Accuracy: 0.8520\n",
            "Training completed without early stopping.\n"
          ]
        }
      ]
    },
    {
      "cell_type": "code",
      "source": [
        "import torch\n",
        "import torch.nn.functional as F\n",
        "from tqdm import tqdm\n",
        "\n",
        "def test_model(model, test_loader, loss_fn, device):\n",
        "    model.load_state_dict(torch.load('best_model.pth'))\n",
        "    model.to(device)\n",
        "    model.eval()\n",
        "\n",
        "    all_predictions = []\n",
        "    all_true_labels = []\n",
        "    test_loss = 0.0\n",
        "\n",
        "    with torch.no_grad():\n",
        "        for inputs, labels in tqdm(test_loader, desc=\"Evaluating test data\"):\n",
        "            inputs, labels = inputs.to(device), labels.to(device)\n",
        "            outputs = model(inputs)\n",
        "            loss = loss_fn(outputs, labels)\n",
        "            test_loss += loss.item()\n",
        "\n",
        "            probabilities = F.softmax(outputs, dim=1)\n",
        "            predictions = torch.argmax(probabilities, dim=1)\n",
        "            all_predictions.extend(predictions.cpu().numpy())\n",
        "            all_true_labels.extend(labels.cpu().numpy())\n",
        "\n",
        "    test_loss /= len(test_loader)\n",
        "    test_accuracy = (np.array(all_predictions) == np.array(all_true_labels)).mean() * 100\n",
        "\n",
        "    print(f\"Test Loss: {test_loss:.4f}\")\n",
        "    print(f\"Test Accuracy: {test_accuracy:.2f}%\")\n",
        "\n",
        "    return test_loss, test_accuracy, all_true_labels, all_predictions"
      ],
      "metadata": {
        "id": "8VOo-lWRSuQA"
      },
      "execution_count": 18,
      "outputs": []
    },
    {
      "cell_type": "code",
      "source": [
        "import matplotlib.pyplot as plt\n",
        "import numpy as np\n",
        "from sklearn.metrics import confusion_matrix, precision_recall_fscore_support\n",
        "import seaborn as sns\n",
        "\n",
        "def report_and_plot_results(train_accuracy, train_loss, val_accuracy, val_loss, test_accuracy, test_loss, y_true, y_pred):\n",
        "    # Report results\n",
        "    print(f\"Training Accuracy: {np.mean(train_accuracy):.2f}%\")\n",
        "    print(f\"Training Loss: {np.mean(train_loss):.4f}\")\n",
        "    print(f\"Validation Accuracy: {np.mean(val_accuracy):.2f}%\")\n",
        "    print(f\"Validation Loss: {np.mean(val_loss):.4f}\")\n",
        "    print(f\"Testing Accuracy: {test_accuracy:.2f}%\")\n",
        "    print(f\"Testing Loss: {test_loss:.4f}\")\n",
        "\n",
        "    # Plot accuracy over time\n",
        "    plt.figure(figsize=(12, 5))\n",
        "    plt.subplot(1, 2, 1)\n",
        "    plt.plot(train_accuracy, label='Training Accuracy')\n",
        "    plt.plot(val_accuracy, label='Validation Accuracy')\n",
        "    plt.title('Training and Validation Accuracy over Epochs')\n",
        "    plt.xlabel('Epochs')\n",
        "    plt.ylabel('Accuracy')\n",
        "    plt.legend()\n",
        "\n",
        "    # Plot loss over time\n",
        "    plt.subplot(1, 2, 2)\n",
        "    plt.plot(train_loss, label='Training Loss')\n",
        "    plt.plot(val_loss, label='Validation Loss')\n",
        "    plt.title('Training and Validation Loss over Epochs')\n",
        "    plt.xlabel('Epochs')\n",
        "    plt.ylabel('Loss')\n",
        "    plt.legend()\n",
        "\n",
        "    plt.show()\n",
        "\n",
        "    # Confusion matrix\n",
        "    conf_matrix = confusion_matrix(y_true, y_pred)\n",
        "    plt.figure(figsize=(8, 6))\n",
        "    sns.heatmap(conf_matrix, annot=True, fmt='d', cmap='Blues')\n",
        "    plt.title('Confusion Matrix')\n",
        "    plt.xlabel('Predicted Label')\n",
        "    plt.ylabel('True Label')\n",
        "    plt.show()"
      ],
      "metadata": {
        "id": "FlEzuxedjTup"
      },
      "execution_count": 19,
      "outputs": []
    },
    {
      "cell_type": "code",
      "source": [
        "test_loss, test_accuracy, y_true, y_pred = test_model(\n",
        "    model=model,\n",
        "    test_loader=test_loader,\n",
        "    loss_fn=criterion,\n",
        "    device=device\n",
        ")"
      ],
      "metadata": {
        "colab": {
          "base_uri": "https://localhost:8080/"
        },
        "id": "i1ygNiwyjWxb",
        "outputId": "d0daa0e2-4559-4f96-9cb0-eb9f003b6558"
      },
      "execution_count": 20,
      "outputs": [
        {
          "output_type": "stream",
          "name": "stderr",
          "text": [
            "Evaluating test data: 100%|██████████| 157/157 [00:59<00:00,  2.65it/s]"
          ]
        },
        {
          "output_type": "stream",
          "name": "stdout",
          "text": [
            "Test Loss: 0.3444\n",
            "Test Accuracy: 84.68%\n"
          ]
        },
        {
          "output_type": "stream",
          "name": "stderr",
          "text": [
            "\n"
          ]
        }
      ]
    },
    {
      "cell_type": "code",
      "source": [
        "report_and_plot_results(train_accuracy, train_loss, val_accuracy, val_loss, test_accuracy, test_loss, y_true, y_pred)"
      ],
      "metadata": {
        "colab": {
          "base_uri": "https://localhost:8080/",
          "height": 1000
        },
        "id": "RaJw2vEhjaxD",
        "outputId": "d13c7fac-fcab-4f4b-ad9b-c975913d6250"
      },
      "execution_count": 21,
      "outputs": [
        {
          "output_type": "stream",
          "name": "stdout",
          "text": [
            "Training Accuracy: 0.81%\n",
            "Training Loss: 0.4031\n",
            "Validation Accuracy: 0.81%\n",
            "Validation Loss: 0.4061\n",
            "Testing Accuracy: 84.68%\n",
            "Testing Loss: 0.3444\n"
          ]
        },
        {
          "output_type": "display_data",
          "data": {
            "text/plain": [
              "<Figure size 1200x500 with 2 Axes>"
            ],
            "image/png": "[encoded data removed]"
          },
          "metadata": {}
        },
        {
          "output_type": "display_data",
          "data": {
            "text/plain": [
              "<Figure size 800x600 with 2 Axes>"
            ],
            "image/png": "[encoded data removed]"
          },
          "metadata": {}
        }
      ]
    },
    {
      "cell_type": "markdown",
      "source": [
        "Early Stopping"
      ],
      "metadata": {
        "id": "lmE4EowZl0p8"
      }
    },
    {
      "cell_type": "code",
      "source": [
        "# Train and validate the model\n",
        "train_loss, train_accuracy, val_loss, val_accuracy = train_and_validate(\n",
        "    model=model,\n",
        "    train_loader=train_loader,\n",
        "    vali_loader=vali_loader,\n",
        "    optimizer=optimizer,\n",
        "    loss_fn=criterion,\n",
        "    device=device,\n",
        "    num_epochs=10,\n",
        "    early_stopping=5\n",
        ")"
      ],
      "metadata": {
        "colab": {
          "base_uri": "https://localhost:8080/"
        },
        "id": "r0jr0I1blk0P",
        "outputId": "c612011b-59bf-49a7-eeb5-565372d4971d"
      },
      "execution_count": 22,
      "outputs": [
        {
          "output_type": "stream",
          "name": "stderr",
          "text": [
            "Epoch 1/10 - Training: 100%|██████████| 1250/1250 [22:18<00:00,  1.07s/it]\n",
            "Epoch 1/10 - Validation: 100%|██████████| 157/157 [00:58<00:00,  2.66it/s]\n"
          ]
        },
        {
          "output_type": "stream",
          "name": "stdout",
          "text": [
            "Epoch 1/10\n",
            "Training Loss: 0.2784, Accuracy: 0.8803\n",
            "Validation Loss: 0.3176, Accuracy: 0.8606\n"
          ]
        },
        {
          "output_type": "stream",
          "name": "stderr",
          "text": [
            "Epoch 2/10 - Training: 100%|██████████| 1250/1250 [22:18<00:00,  1.07s/it]\n",
            "Epoch 2/10 - Validation: 100%|██████████| 157/157 [00:59<00:00,  2.65it/s]\n"
          ]
        },
        {
          "output_type": "stream",
          "name": "stdout",
          "text": [
            "Epoch 2/10\n",
            "Training Loss: 0.2648, Accuracy: 0.8861\n",
            "Validation Loss: 0.3173, Accuracy: 0.8648\n"
          ]
        },
        {
          "output_type": "stream",
          "name": "stderr",
          "text": [
            "Epoch 3/10 - Training: 100%|██████████| 1250/1250 [22:18<00:00,  1.07s/it]\n",
            "Epoch 3/10 - Validation: 100%|██████████| 157/157 [00:59<00:00,  2.65it/s]\n"
          ]
        },
        {
          "output_type": "stream",
          "name": "stdout",
          "text": [
            "Epoch 3/10\n",
            "Training Loss: 0.2493, Accuracy: 0.8940\n",
            "Validation Loss: 0.2968, Accuracy: 0.8730\n"
          ]
        },
        {
          "output_type": "stream",
          "name": "stderr",
          "text": [
            "Epoch 4/10 - Training: 100%|██████████| 1250/1250 [22:17<00:00,  1.07s/it]\n",
            "Epoch 4/10 - Validation: 100%|██████████| 157/157 [00:59<00:00,  2.66it/s]\n"
          ]
        },
        {
          "output_type": "stream",
          "name": "stdout",
          "text": [
            "Epoch 4/10\n",
            "Training Loss: 0.2379, Accuracy: 0.9000\n",
            "Validation Loss: 0.3332, Accuracy: 0.8582\n"
          ]
        },
        {
          "output_type": "stream",
          "name": "stderr",
          "text": [
            "Epoch 5/10 - Training: 100%|██████████| 1250/1250 [22:16<00:00,  1.07s/it]\n",
            "Epoch 5/10 - Validation: 100%|██████████| 157/157 [00:59<00:00,  2.65it/s]\n"
          ]
        },
        {
          "output_type": "stream",
          "name": "stdout",
          "text": [
            "Epoch 5/10\n",
            "Training Loss: 0.2226, Accuracy: 0.9046\n",
            "Validation Loss: 0.3167, Accuracy: 0.8664\n"
          ]
        },
        {
          "output_type": "stream",
          "name": "stderr",
          "text": [
            "Epoch 6/10 - Training: 100%|██████████| 1250/1250 [22:14<00:00,  1.07s/it]\n",
            "Epoch 6/10 - Validation: 100%|██████████| 157/157 [00:59<00:00,  2.66it/s]\n"
          ]
        },
        {
          "output_type": "stream",
          "name": "stdout",
          "text": [
            "Epoch 6/10\n",
            "Training Loss: 0.2086, Accuracy: 0.9133\n",
            "Validation Loss: 0.3094, Accuracy: 0.8718\n"
          ]
        },
        {
          "output_type": "stream",
          "name": "stderr",
          "text": [
            "Epoch 7/10 - Training: 100%|██████████| 1250/1250 [22:14<00:00,  1.07s/it]\n",
            "Epoch 7/10 - Validation: 100%|██████████| 157/157 [00:58<00:00,  2.67it/s]\n"
          ]
        },
        {
          "output_type": "stream",
          "name": "stdout",
          "text": [
            "Epoch 7/10\n",
            "Training Loss: 0.1904, Accuracy: 0.9204\n",
            "Validation Loss: 0.3216, Accuracy: 0.8746\n"
          ]
        },
        {
          "output_type": "stream",
          "name": "stderr",
          "text": [
            "Epoch 8/10 - Training: 100%|██████████| 1250/1250 [22:15<00:00,  1.07s/it]\n",
            "Epoch 8/10 - Validation: 100%|██████████| 157/157 [00:59<00:00,  2.66it/s]\n"
          ]
        },
        {
          "output_type": "stream",
          "name": "stdout",
          "text": [
            "Epoch 8/10\n",
            "Training Loss: 0.1788, Accuracy: 0.9255\n",
            "Validation Loss: 0.2835, Accuracy: 0.8792\n"
          ]
        },
        {
          "output_type": "stream",
          "name": "stderr",
          "text": [
            "Epoch 9/10 - Training: 100%|██████████| 1250/1250 [22:13<00:00,  1.07s/it]\n",
            "Epoch 9/10 - Validation: 100%|██████████| 157/157 [00:58<00:00,  2.66it/s]\n"
          ]
        },
        {
          "output_type": "stream",
          "name": "stdout",
          "text": [
            "Epoch 9/10\n",
            "Training Loss: 0.1629, Accuracy: 0.9317\n",
            "Validation Loss: 0.3351, Accuracy: 0.8676\n"
          ]
        },
        {
          "output_type": "stream",
          "name": "stderr",
          "text": [
            "Epoch 10/10 - Training: 100%|██████████| 1250/1250 [22:13<00:00,  1.07s/it]\n",
            "Epoch 10/10 - Validation: 100%|██████████| 157/157 [00:58<00:00,  2.67it/s]"
          ]
        },
        {
          "output_type": "stream",
          "name": "stdout",
          "text": [
            "Epoch 10/10\n",
            "Training Loss: 0.1520, Accuracy: 0.9381\n",
            "Validation Loss: 0.3596, Accuracy: 0.8710\n",
            "Training completed without early stopping.\n"
          ]
        },
        {
          "output_type": "stream",
          "name": "stderr",
          "text": [
            "\n"
          ]
        }
      ]
    },
    {
      "cell_type": "code",
      "source": [
        "test_loss, test_accuracy, y_true, y_pred = test_model(\n",
        "    model=model,\n",
        "    test_loader=test_loader,\n",
        "    loss_fn=criterion,\n",
        "    device=device\n",
        ")"
      ],
      "metadata": {
        "colab": {
          "base_uri": "https://localhost:8080/"
        },
        "id": "Mt6wHPwKD-55",
        "outputId": "b2d0d712-39af-4c7a-cb1f-cfe12baa5d4e"
      },
      "execution_count": 23,
      "outputs": [
        {
          "output_type": "stream",
          "name": "stderr",
          "text": [
            "Evaluating test data: 100%|██████████| 157/157 [00:59<00:00,  2.66it/s]"
          ]
        },
        {
          "output_type": "stream",
          "name": "stdout",
          "text": [
            "Test Loss: 0.2855\n",
            "Test Accuracy: 88.28%\n"
          ]
        },
        {
          "output_type": "stream",
          "name": "stderr",
          "text": [
            "\n"
          ]
        }
      ]
    },
    {
      "cell_type": "code",
      "source": [
        "report_and_plot_results(train_accuracy, train_loss, val_accuracy, val_loss, test_accuracy, test_loss, y_true, y_pred)"
      ],
      "metadata": {
        "colab": {
          "base_uri": "https://localhost:8080/",
          "height": 1000
        },
        "id": "4qH6shy6EB7X",
        "outputId": "2861b1fa-2df4-4aae-e993-da17b78c7fae"
      },
      "execution_count": 24,
      "outputs": [
        {
          "output_type": "stream",
          "name": "stdout",
          "text": [
            "Training Accuracy: 0.91%\n",
            "Training Loss: 0.2146\n",
            "Validation Accuracy: 0.87%\n",
            "Validation Loss: 0.3191\n",
            "Testing Accuracy: 88.28%\n",
            "Testing Loss: 0.2855\n"
          ]
        },
        {
          "output_type": "display_data",
          "data": {
            "text/plain": [
              "<Figure size 1200x500 with 2 Axes>"
            ],
            "image/png": "[encoded data removed]"
          },
          "metadata": {}
        },
        {
          "output_type": "display_data",
          "data": {
            "text/plain": [
              "<Figure size 800x600 with 2 Axes>"
            ],
            "image/png": "[encoded data removed]"
          },
          "metadata": {}
        }
      ]
    },
    {
      "cell_type": "code",
      "source": [],
      "metadata": {
        "id": "AYuG5YMuED2a"
      },
      "execution_count": null,
      "outputs": []
    }
  ]
}
